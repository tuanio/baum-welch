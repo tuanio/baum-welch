{
 "cells": [
  {
   "cell_type": "code",
   "execution_count": 3,
   "id": "48357bef-b5a3-4762-b629-bfbaba520871",
   "metadata": {
    "execution": {
     "iopub.execute_input": "2021-09-18T05:53:45.005474Z",
     "iopub.status.busy": "2021-09-18T05:53:45.004509Z",
     "iopub.status.idle": "2021-09-18T05:53:46.758501Z",
     "shell.execute_reply": "2021-09-18T05:53:46.756560Z",
     "shell.execute_reply.started": "2021-09-18T05:53:45.005474Z"
    },
    "tags": []
   },
   "outputs": [],
   "source": [
    "import numpy as np\n",
    "from hmmlearn import hmm"
   ]
  },
  {
   "cell_type": "code",
   "execution_count": 115,
   "id": "cddfb21a-4f9f-411b-91a4-333721ea7c63",
   "metadata": {
    "execution": {
     "iopub.execute_input": "2021-09-18T06:15:33.115050Z",
     "iopub.status.busy": "2021-09-18T06:15:33.114051Z",
     "iopub.status.idle": "2021-09-18T06:15:33.122236Z",
     "shell.execute_reply": "2021-09-18T06:15:33.121255Z",
     "shell.execute_reply.started": "2021-09-18T06:15:33.115050Z"
    },
    "tags": []
   },
   "outputs": [
    {
     "data": {
      "text/plain": [
       "array([[0, 1, 1, 0, 0, 1, 1, 1, 1, 1, 0, 0, 1, 1, 1]])"
      ]
     },
     "execution_count": 115,
     "metadata": {},
     "output_type": "execute_result"
    }
   ],
   "source": [
    "M, T = 1, 15\n",
    "obs = np.random.binomial(1, 0.5, size=(M, T))\n",
    "obs"
   ]
  },
  {
   "cell_type": "code",
   "execution_count": 116,
   "id": "f41de7f3-edad-47a2-b017-78791cc378e8",
   "metadata": {
    "execution": {
     "iopub.execute_input": "2021-09-18T06:15:33.689674Z",
     "iopub.status.busy": "2021-09-18T06:15:33.688772Z",
     "iopub.status.idle": "2021-09-18T06:15:33.706671Z",
     "shell.execute_reply": "2021-09-18T06:15:33.705669Z",
     "shell.execute_reply.started": "2021-09-18T06:15:33.689674Z"
    },
    "tags": []
   },
   "outputs": [],
   "source": [
    "p_init = 0.3\n",
    "p_transit = 0.3\n",
    "p_slip = 0.4\n",
    "p_guess = 0.4\n",
    "\n",
    "init = np.array([1 - p_init, p_init])\n",
    "transition = np.array([[0, 1], [1 - p_transit, p_transit]])\n",
    "emssion = np.array([[p_slip, 1 - p_slip], [1 - p_guess, p_guess]])"
   ]
  },
  {
   "cell_type": "code",
   "execution_count": 117,
   "id": "7303f76a-da57-4d9f-8046-fa4a87eed99c",
   "metadata": {
    "execution": {
     "iopub.execute_input": "2021-09-18T06:15:34.163004Z",
     "iopub.status.busy": "2021-09-18T06:15:34.162031Z",
     "iopub.status.idle": "2021-09-18T06:15:34.178302Z",
     "shell.execute_reply": "2021-09-18T06:15:34.177299Z",
     "shell.execute_reply.started": "2021-09-18T06:15:34.163004Z"
    },
    "tags": []
   },
   "outputs": [
    {
     "data": {
      "text/plain": [
       "MultinomialHMM(init_params='se', n_components=2,\n",
       "               random_state=RandomState(MT19937) at 0x2206AFFFC40)"
      ]
     },
     "execution_count": 117,
     "metadata": {},
     "output_type": "execute_result"
    }
   ],
   "source": [
    "model = hmm.MultinomialHMM(n_components=2, init_params='se')\n",
    "model.transmat_ = transition\n",
    "model.fit(obs)"
   ]
  },
  {
   "cell_type": "code",
   "execution_count": 118,
   "id": "1899293f-9387-44a2-ae85-9e0def671c6e",
   "metadata": {
    "execution": {
     "iopub.execute_input": "2021-09-18T06:15:34.596335Z",
     "iopub.status.busy": "2021-09-18T06:15:34.596335Z",
     "iopub.status.idle": "2021-09-18T06:15:34.608254Z",
     "shell.execute_reply": "2021-09-18T06:15:34.607265Z",
     "shell.execute_reply.started": "2021-09-18T06:15:34.596335Z"
    },
    "tags": []
   },
   "outputs": [
    {
     "data": {
      "text/plain": [
       "array([[0.        , 1.        ],\n",
       "       [0.52040879, 0.47959121]])"
      ]
     },
     "execution_count": 118,
     "metadata": {},
     "output_type": "execute_result"
    }
   ],
   "source": [
    "model.transmat_"
   ]
  },
  {
   "cell_type": "code",
   "execution_count": 119,
   "id": "e2295b7c-5350-4e84-b7c7-0b41d049b5d3",
   "metadata": {
    "execution": {
     "iopub.execute_input": "2021-09-18T06:15:35.521738Z",
     "iopub.status.busy": "2021-09-18T06:15:35.521738Z",
     "iopub.status.idle": "2021-09-18T06:15:35.532648Z",
     "shell.execute_reply": "2021-09-18T06:15:35.531662Z",
     "shell.execute_reply.started": "2021-09-18T06:15:35.521738Z"
    },
    "tags": []
   },
   "outputs": [
    {
     "data": {
      "text/plain": [
       "array([0.99133115, 0.00866885])"
      ]
     },
     "execution_count": 119,
     "metadata": {},
     "output_type": "execute_result"
    }
   ],
   "source": [
    "model.startprob_"
   ]
  },
  {
   "cell_type": "code",
   "execution_count": 120,
   "id": "044826bd-2c04-40cf-bc5f-32cf340facc9",
   "metadata": {
    "execution": {
     "iopub.execute_input": "2021-09-18T06:15:36.154875Z",
     "iopub.status.busy": "2021-09-18T06:15:36.154875Z",
     "iopub.status.idle": "2021-09-18T06:15:36.175385Z",
     "shell.execute_reply": "2021-09-18T06:15:36.174390Z",
     "shell.execute_reply.started": "2021-09-18T06:15:36.154875Z"
    },
    "tags": []
   },
   "outputs": [
    {
     "data": {
      "text/plain": [
       "array([[0.47266274, 0.52733726],\n",
       "       [0.25163982, 0.74836018]])"
      ]
     },
     "execution_count": 120,
     "metadata": {},
     "output_type": "execute_result"
    }
   ],
   "source": [
    "model.emissionprob_"
   ]
  },
  {
   "cell_type": "code",
   "execution_count": 121,
   "id": "63a77117-cec3-4918-93a2-23717d104ed4",
   "metadata": {
    "execution": {
     "iopub.execute_input": "2021-09-18T06:15:36.725432Z",
     "iopub.status.busy": "2021-09-18T06:15:36.725432Z",
     "iopub.status.idle": "2021-09-18T06:15:36.743905Z",
     "shell.execute_reply": "2021-09-18T06:15:36.742901Z",
     "shell.execute_reply.started": "2021-09-18T06:15:36.725432Z"
    },
    "tags": []
   },
   "outputs": [
    {
     "data": {
      "text/plain": [
       "-9.295433789672478"
      ]
     },
     "execution_count": 121,
     "metadata": {},
     "output_type": "execute_result"
    }
   ],
   "source": [
    "model.score(obs)"
   ]
  },
  {
   "cell_type": "code",
   "execution_count": 122,
   "id": "2e181db9-a918-4ead-8d97-dff56e73396e",
   "metadata": {
    "execution": {
     "iopub.execute_input": "2021-09-18T06:15:38.505071Z",
     "iopub.status.busy": "2021-09-18T06:15:38.505071Z",
     "iopub.status.idle": "2021-09-18T06:15:38.526068Z",
     "shell.execute_reply": "2021-09-18T06:15:38.525096Z",
     "shell.execute_reply.started": "2021-09-18T06:15:38.505071Z"
    },
    "tags": []
   },
   "outputs": [
    {
     "data": {
      "text/plain": [
       "array([0, 1, 0, 1, 0, 1, 0, 1, 0, 1, 1, 0, 1, 0, 1])"
      ]
     },
     "execution_count": 122,
     "metadata": {},
     "output_type": "execute_result"
    }
   ],
   "source": [
    "model.predict(obs)"
   ]
  }
 ],
 "metadata": {
  "kernelspec": {
   "display_name": "Python 3",
   "language": "python",
   "name": "python3"
  },
  "language_info": {
   "codemirror_mode": {
    "name": "ipython",
    "version": 3
   },
   "file_extension": ".py",
   "mimetype": "text/x-python",
   "name": "python",
   "nbconvert_exporter": "python",
   "pygments_lexer": "ipython3",
   "version": "3.8.11"
  }
 },
 "nbformat": 4,
 "nbformat_minor": 5
}
